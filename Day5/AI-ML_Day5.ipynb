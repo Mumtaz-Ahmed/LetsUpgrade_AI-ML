{
  "nbformat": 4,
  "nbformat_minor": 0,
  "metadata": {
    "colab": {
      "name": "AI-ML_Day5.ipynb",
      "provenance": [],
      "collapsed_sections": []
    },
    "kernelspec": {
      "name": "python3",
      "display_name": "Python 3"
    }
  },
  "cells": [
    {
      "cell_type": "markdown",
      "metadata": {
        "id": "jDqjfvR77X5C",
        "colab_type": "text"
      },
      "source": [
        "# List of first 20 non-even Prime Natural numbers"
      ]
    },
    {
      "cell_type": "code",
      "metadata": {
        "id": "xpkkwY3m35_x",
        "colab_type": "code",
        "colab": {}
      },
      "source": [
        "l = []\n",
        "i = 2\n",
        "\n",
        "def is_prime(num):\n",
        "    '''\n",
        "    Function to check if a number is Prime or not\n",
        "    '''\n",
        "    prime = True\n",
        "    if num != 4:\n",
        "        for i in list(range(2, int(num/2))):\n",
        "            if num % i != 0:\n",
        "                prime = True\n",
        "            else:\n",
        "                prime = False\n",
        "                break\n",
        "    else:\n",
        "        prime = False\n",
        "    return prime\n",
        "\n",
        "while (len(l) < 20):\n",
        "  if i % 2 != 0:\n",
        "    if is_prime(i) == True:\n",
        "      l.append(i)\n",
        "  i += 1\n",
        "\n",
        "print (\"List of first 20 odd prime natural numbers is \\n{}\".format(l))"
      ],
      "execution_count": null,
      "outputs": []
    },
    {
      "cell_type": "markdown",
      "metadata": {
        "id": "fy-McZk97iGg",
        "colab_type": "text"
      },
      "source": [
        "# Check if a string is Palindrome or Anagram"
      ]
    },
    {
      "cell_type": "code",
      "metadata": {
        "id": "d9-MWNOo7yie",
        "colab_type": "code",
        "colab": {}
      },
      "source": [
        "s = input(\"Enter the string:\\n\").lower()\n",
        "a = input(\"Enter the word to check if the above string is an Anagram:\\n\").lower()\n",
        "\n",
        "r = s[::-1]\n",
        "s1 = sorted(s)\n",
        "s2 = sorted(a)\n",
        "\n",
        "if s == r:\n",
        "  if s1 == s2:\n",
        "    print (\"The entered string is a Palindrome and an Anagram\")\n",
        "  else:\n",
        "    print (\"The entered string is a Palindrome\")\n",
        "elif s1 == s2:\n",
        "    print (\"The entered string is an Anagram\")\n",
        "else:\n",
        "  print (\"The entered string is neither a Palindrome nor an Anagram\")"
      ],
      "execution_count": null,
      "outputs": []
    },
    {
      "cell_type": "markdown",
      "metadata": {
        "id": "bQP9XBcbBe-o",
        "colab_type": "text"
      },
      "source": [
        "# Remove additional characters"
      ]
    },
    {
      "cell_type": "code",
      "metadata": {
        "id": "4Dq7mkAgBqMX",
        "colab_type": "code",
        "colab": {}
      },
      "source": [
        "s = input(\"Enter the string:\\n\").lower()\n",
        "r = ''\n",
        "\n",
        "for i in s:\n",
        "  if i.isalpha() == True:\n",
        "    r += i\n",
        "\n",
        "print (\"Output string is : {}\".format(r))"
      ],
      "execution_count": null,
      "outputs": []
    }
  ]
}