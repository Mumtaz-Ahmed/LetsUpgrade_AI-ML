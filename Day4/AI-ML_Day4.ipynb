{
  "nbformat": 4,
  "nbformat_minor": 0,
  "metadata": {
    "colab": {
      "name": "AI-ML_Day4.ipynb",
      "provenance": [],
      "collapsed_sections": []
    },
    "kernelspec": {
      "name": "python3",
      "display_name": "Python 3"
    }
  },
  "cells": [
    {
      "cell_type": "markdown",
      "metadata": {
        "id": "AbEui0EAfZHw",
        "colab_type": "text"
      },
      "source": [
        "# Operations on complex numbers"
      ]
    },
    {
      "cell_type": "code",
      "metadata": {
        "id": "W4D7p9Ntlml6",
        "colab_type": "code",
        "colab": {}
      },
      "source": [
        "a = 14+9j\n",
        "b = 7-2j\n",
        "print (\"Value of a is {} and b is {}\".format(a,b))\n",
        "s = a + b\n",
        "print (\"Sum is {}\".format(s))\n",
        "d = a - b\n",
        "print (\"Difference is {}\".format(d))\n",
        "p = a * b\n",
        "print (\"Product is {}\".format(p))\n",
        "q = a / b\n",
        "print (\"Quotient is {}\".format(q))\n",
        "fd = a / b\n",
        "print (\"Floor division result is {}\".format(fd))\n",
        "\n",
        "'Mod operation cannot be performed on complex numbers'"
      ],
      "execution_count": null,
      "outputs": []
    },
    {
      "cell_type": "markdown",
      "metadata": {
        "id": "Sb5-YMnEjYwU",
        "colab_type": "text"
      },
      "source": [
        "# Range Functions\n",
        "\n",
        "Range function is used to create a range of values\n",
        "\n",
        "This function has 3 arguements\n",
        "\n",
        "\n",
        "*   1st arg = start\n",
        "*   2nd arg = end\n",
        "*   3rd arg = difference between 2 values in the created range\n",
        "\n",
        "If only one arguement 'n' is given, range from 0 to 'n-1' is created\n",
        "\n",
        "If 2 arguements 'm' and 'n' is given, range from 'm' to 'n-1' is created\n",
        "\n",
        "If all 3 arguements 'm', 'n' and 'd' are given, range from 'm' to 'n-1' with a difference of 'd' between 2 consecutive numbers is created\n",
        "\n",
        "It's explained with the below code"
      ]
    },
    {
      "cell_type": "code",
      "metadata": {
        "id": "je3QeylpjgdT",
        "colab_type": "code",
        "colab": {}
      },
      "source": [
        "l1 = list(range(6))\n",
        "print (\"range(6) creates the values of {}\".format(l1))\n",
        "l2 = list(range(6, 30))\n",
        "print (\"range(6, 30) creates the values of {}\".format(l2))\n",
        "l3 = list(range(6, 30, 5))\n",
        "print (\"range(6, 30, 5) creates the values of {}\".format(l3))"
      ],
      "execution_count": null,
      "outputs": []
    },
    {
      "cell_type": "markdown",
      "metadata": {
        "id": "lc_-o579qoFT",
        "colab_type": "text"
      },
      "source": [
        "# Question 3"
      ]
    },
    {
      "cell_type": "code",
      "metadata": {
        "id": "zN93gPEKqnr0",
        "colab_type": "code",
        "colab": {}
      },
      "source": [
        "x = int(input(\"Enter 1st number :\"))\n",
        "y = int(input(\"Enter 2nd number :\"))\n",
        "d = abs(x - y)\n",
        "\n",
        "if d >= 25:\n",
        "  r = x * y\n",
        "  print (\"Difference is :\", d)\n",
        "  print (\"Hence Product is :\", r)\n",
        "else:\n",
        "  r = x / y\n",
        "  print (\"Difference is :\", d)\n",
        "  print (\"Hence Quotient is :\", r)"
      ],
      "execution_count": null,
      "outputs": []
    },
    {
      "cell_type": "markdown",
      "metadata": {
        "id": "a2rIenYxx7G3",
        "colab_type": "text"
      },
      "source": [
        "# Question 4"
      ]
    },
    {
      "cell_type": "code",
      "metadata": {
        "id": "1hzpODiix-U0",
        "colab_type": "code",
        "colab": {}
      },
      "source": [
        "l = [6, -3, 39, 12, -69, 25, 11, 24, 8, 2, 10]\n",
        "\n",
        "for i in l:\n",
        "  if i % 2 == 0:\n",
        "    print (\"\\nValue in list is {} and output will be {}\".format(i, ((i ** 2) - 2)))\n",
        "  else:\n",
        "    print (\"\\nValue in list is {} and is not divisible by 2\".format(i))"
      ],
      "execution_count": null,
      "outputs": []
    },
    {
      "cell_type": "markdown",
      "metadata": {
        "id": "f0mIfEDs3C1w",
        "colab_type": "text"
      },
      "source": [
        "# Question 5"
      ]
    },
    {
      "cell_type": "code",
      "metadata": {
        "id": "FgHrIXma3F_E",
        "colab_type": "code",
        "colab": {}
      },
      "source": [
        "l = [6, -3, 39, 12, -69, 25, 11, 24, 8, 2, 10]\n",
        "l1 = []\n",
        "\n",
        "for i in l:\n",
        "  if i % 2 == 0:\n",
        "    if i > 7:\n",
        "      l1.append(i)\n",
        "\n",
        "print (\"Result list will be {}\".format(l1))"
      ],
      "execution_count": null,
      "outputs": []
    }
  ]
}